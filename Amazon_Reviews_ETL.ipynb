{
  "nbformat": 4,
  "nbformat_minor": 0,
  "metadata": {
    "colab": {
      "name": "Amazon_Reviews_ETL.ipynb",
      "provenance": [],
      "collapsed_sections": [],
      "include_colab_link": true
    },
    "kernelspec": {
      "name": "python3",
      "display_name": "Python 3"
    },
    "nteract": {
      "version": "0.12.3"
    },
    "language_info": {
      "name": "python"
    }
  },
  "cells": [
    {
      "cell_type": "markdown",
      "metadata": {
        "id": "view-in-github",
        "colab_type": "text"
      },
      "source": [
        "<a href=\"https://colab.research.google.com/github/VickyCarlson/Amazon_Vine_Analysis/blob/main/Amazon_Reviews_ETL.ipynb\" target=\"_parent\"><img src=\"https://colab.research.google.com/assets/colab-badge.svg\" alt=\"Open In Colab\"/></a>"
      ]
    },
    {
      "cell_type": "code",
      "metadata": {
        "id": "V58rxea0HqSa",
        "colab": {
          "base_uri": "https://localhost:8080/"
        },
        "outputId": "fe0f522d-bac3-41a4-a9fe-25001d1009a4"
      },
      "source": [
        "import os\n",
        "# Find the latest version of spark 3.0 from http://www.apache.org/dist/spark/ and enter as the spark version\n",
        "# For example:\n",
        "# spark_version = 'spark-3.0.3'\n",
        "spark_version = 'spark-3.2.0'\n",
        "os.environ['SPARK_VERSION']=spark_version\n",
        "\n",
        "# Install Spark and Java\n",
        "!apt-get update\n",
        "!apt-get install openjdk-11-jdk-headless -qq > /dev/null\n",
        "!wget -q http://www.apache.org/dist/spark/$SPARK_VERSION/$SPARK_VERSION-bin-hadoop2.7.tgz\n",
        "!tar xf $SPARK_VERSION-bin-hadoop2.7.tgz\n",
        "!pip install -q findspark\n",
        "\n",
        "# Set Environment Variables\n",
        "import os\n",
        "os.environ[\"JAVA_HOME\"] = \"/usr/lib/jvm/java-11-openjdk-amd64\"\n",
        "os.environ[\"SPARK_HOME\"] = f\"/content/{spark_version}-bin-hadoop2.7\"\n",
        "\n",
        "# Start a SparkSession\n",
        "import findspark\n",
        "findspark.init()"
      ],
      "execution_count": null,
      "outputs": [
        {
          "output_type": "stream",
          "name": "stdout",
          "text": [
            "\r0% [Working]\r            \rIgn:1 https://developer.download.nvidia.com/compute/cuda/repos/ubuntu1804/x86_64  InRelease\n",
            "\r0% [Connecting to archive.ubuntu.com] [Connecting to security.ubuntu.com] [Conn\r                                                                               \rIgn:2 https://developer.download.nvidia.com/compute/machine-learning/repos/ubuntu1804/x86_64  InRelease\n",
            "Hit:3 https://developer.download.nvidia.com/compute/cuda/repos/ubuntu1804/x86_64  Release\n",
            "Hit:4 https://cloud.r-project.org/bin/linux/ubuntu bionic-cran40/ InRelease\n",
            "Hit:5 https://developer.download.nvidia.com/compute/machine-learning/repos/ubuntu1804/x86_64  Release\n",
            "Hit:7 http://ppa.launchpad.net/c2d4u.team/c2d4u4.0+/ubuntu bionic InRelease\n",
            "Hit:8 http://security.ubuntu.com/ubuntu bionic-security InRelease\n",
            "Hit:9 http://archive.ubuntu.com/ubuntu bionic InRelease\n",
            "Hit:10 http://archive.ubuntu.com/ubuntu bionic-updates InRelease\n",
            "Hit:11 http://ppa.launchpad.net/cran/libgit2/ubuntu bionic InRelease\n",
            "Hit:13 http://archive.ubuntu.com/ubuntu bionic-backports InRelease\n",
            "Hit:14 http://ppa.launchpad.net/deadsnakes/ppa/ubuntu bionic InRelease\n",
            "Hit:15 http://ppa.launchpad.net/graphics-drivers/ppa/ubuntu bionic InRelease\n",
            "Reading package lists... Done\n"
          ]
        }
      ]
    },
    {
      "cell_type": "code",
      "metadata": {
        "id": "_xKwTpATHqSe",
        "colab": {
          "base_uri": "https://localhost:8080/"
        },
        "outputId": "3abd7c5f-fa57-4c7b-add9-e6c647e1abac"
      },
      "source": [
        "# Download the Postgres driver that will allow Spark to interact with Postgres.\n",
        "!wget https://jdbc.postgresql.org/download/postgresql-42.2.16.jar"
      ],
      "execution_count": null,
      "outputs": [
        {
          "output_type": "stream",
          "name": "stdout",
          "text": [
            "--2022-01-08 23:14:38--  https://jdbc.postgresql.org/download/postgresql-42.2.16.jar\n",
            "Resolving jdbc.postgresql.org (jdbc.postgresql.org)... 72.32.157.228, 2001:4800:3e1:1::228\n",
            "Connecting to jdbc.postgresql.org (jdbc.postgresql.org)|72.32.157.228|:443... connected.\n",
            "HTTP request sent, awaiting response... 200 OK\n",
            "Length: 1002883 (979K) [application/java-archive]\n",
            "Saving to: ‘postgresql-42.2.16.jar.1’\n",
            "\n",
            "postgresql-42.2.16. 100%[===================>] 979.38K  5.92MB/s    in 0.2s    \n",
            "\n",
            "2022-01-08 23:14:39 (5.92 MB/s) - ‘postgresql-42.2.16.jar.1’ saved [1002883/1002883]\n",
            "\n"
          ]
        }
      ]
    },
    {
      "cell_type": "code",
      "metadata": {
        "id": "MMqDAjVS0KN9"
      },
      "source": [
        "from pyspark.sql import SparkSession\n",
        "spark = SparkSession.builder.appName(\"M16-Amazon-Challenge\").config(\"spark.driver.extraClassPath\",\"/content/postgresql-42.2.16.jar\").getOrCreate()"
      ],
      "execution_count": null,
      "outputs": []
    },
    {
      "cell_type": "markdown",
      "metadata": {
        "id": "cyBsySGuY-9V"
      },
      "source": [
        "### Load Amazon Data into Spark DataFrame"
      ]
    },
    {
      "cell_type": "code",
      "metadata": {
        "id": "CtCmBhQJY-9Z",
        "colab": {
          "base_uri": "https://localhost:8080/"
        },
        "outputId": "d65ebf54-06ec-4bad-f8b4-33b3e388f832"
      },
      "source": [
        "from pyspark import SparkFiles\n",
        "url = \"https://bookrevs.s3.us-west-2.amazonaws.com/amazon_reviews_us_Digital_Ebook_Purchase_v1_00.tsv\"\n",
        "spark.sparkContext.addFile(url)\n",
        "df = spark.read.option(\"encoding\", \"UTF-8\").csv(SparkFiles.get(\"amazon_reviews_us_Digital_Ebook_Purchase_v1_00.tsv\"), sep=\"\\t\", header=True, inferSchema=True)\n",
        "df.show()"
      ],
      "execution_count": 67,
      "outputs": [
        {
          "output_type": "stream",
          "name": "stdout",
          "text": [
            "+-----------+-----------+--------------+----------+--------------+--------------------+--------------------+-----------+-------------+-----------+----+-----------------+--------------------+--------------------+-----------+\n",
            "|marketplace|customer_id|     review_id|product_id|product_parent|       product_title|    product_category|star_rating|helpful_votes|total_votes|vine|verified_purchase|     review_headline|         review_body|review_date|\n",
            "+-----------+-----------+--------------+----------+--------------+--------------------+--------------------+-----------+-------------+-----------+----+-----------------+--------------------+--------------------+-----------+\n",
            "|         US|   35471030|R1C5OK9AND7PRP|B00AHK07V0|     175130663|Hunter's Moon (A ...|Digital_Ebook_Pur...|          5|            0|          0|   N|                Y|Shugak is like a ...|This is the most ...| 2015-08-31|\n",
            "|         US|   26579324|R333RNBQMPVUFT|B014085WTQ|     859232728|Flying Toward For...|Digital_Ebook_Pur...|          5|            0|          0|   N|                Y|For the young hea...|This story holds ...| 2015-08-31|\n",
            "|         US|    9152364|R2A2K0GTNSKXM1|B0113MFPN0|     411472516|Falling For A Rea...|Digital_Ebook_Pur...|          5|            0|          0|   N|                N|          Five Stars|A true love story...| 2015-08-31|\n",
            "|         US|   52087605|R365LAQ9REV876|B00T8RIK7G|     353828021|   The Good Neighbor|Digital_Ebook_Pur...|          3|            0|          0|   N|                Y|Not really my typ...|A bit contrived a...| 2015-08-31|\n",
            "|         US|   46454660|R294OF3SNH6SWZ|B00EMXBDMA|     803172158|The Martian: A Novel|Digital_Ebook_Pur...|          4|            0|          0|   N|                Y|Coming soon to a ...|Moved well. Seeme...| 2015-08-31|\n",
            "|         US|   33168429|R2OMRH58WYEEP9|B00GL3OJIY|     325772386|The Painter: A novel|Digital_Ebook_Pur...|          5|            0|          0|   N|                N|        I liked it a|Very different an...| 2015-08-31|\n",
            "|         US|   18546798| RBFXYUJZIH5JR|B00RW30QE8|     236508296|        METEOR STORM|Digital_Ebook_Pur...|          5|            0|          0|   N|                Y|The author delive...|Once I started re...| 2015-08-31|\n",
            "|         US|   47463409|R2K2RSBNV42HU4|B0101AE85Q|     924272105|Diary of a Crazy ...|Digital_Ebook_Pur...|          5|            0|          0|   N|                N|This book is amaz...|Super quality, gr...| 2015-08-31|\n",
            "|         US|   11767467|R2CLRFFJ5HJSU3|B00IO7QAI2|     393059633|Unlocking Potenti...|Digital_Ebook_Pur...|          4|            0|          0|   N|                N|          Four Stars|    A useful primer.| 2015-08-31|\n",
            "|         US|   14241457| RS1O7V45AADDO|B00PM995TG|     529331494|The Einstein Prop...|Digital_Ebook_Pur...|          4|            0|          0|   N|                Y|          Four Stars|   enjoyed the story| 2015-08-31|\n",
            "|         US|   52821351| RYD2AF3KUC4OL|B00K4C4GVI|     310020786|Make It Ahead: A ...|Digital_Ebook_Pur...|          5|            2|          2|   N|                Y|Because of her I ...|This isn't the he...| 2015-08-31|\n",
            "|         US|   14416837| RHQTCPUF1CXY2|B00PUSKG8I|     683060701|The Shipwreck of ...|Digital_Ebook_Pur...|          4|            0|          0|   N|                Y|Very interesting ...|This is a very qu...| 2015-08-31|\n",
            "|         US|   17189419|R3371UTDP6I1FU|B00FNCSBCE|     813812785|20 Compelling Evi...|Digital_Ebook_Pur...|          5|            0|          0|   N|                Y|           Excellent|For some reason I...| 2015-08-31|\n",
            "|         US|   44043796|R2RI2S5Q90RG23|B004XFYN9M|     972973628|   What Alice Forgot|Digital_Ebook_Pur...|          5|            0|          0|   N|                Y|           good read|Good character de...| 2015-08-31|\n",
            "|         US|   24135769| RCYE82T9GRT48|B00K0OI42W|     994527755|To Kill a Mocking...|Digital_Ebook_Pur...|          5|            0|          0|   N|                Y|I last read it in...|This was a reread...| 2015-08-31|\n",
            "|         US|   47496659|R12T8WK03VQNC5|B00N2HHPQU|     886553830|The Housewife Ass...|Digital_Ebook_Pur...|          4|            1|          1|   N|                Y|          Four Stars|           enjoyable| 2015-08-31|\n",
            "|         US|   21051459|R3RVME26X4DGJX|B00ZPCLT0S|     296387019|Illusive (Storm M...|Digital_Ebook_Pur...|          5|            0|          0|   N|                N|           Fantastic|Oh how UNFAIR thi...| 2015-08-31|\n",
            "|         US|   45295639|R3BME7NLVCMJHW|B00QSNV82C|     506388384|A Mansion, A Drag...|Digital_Ebook_Pur...|          4|            0|          0|   N|                Y|          Four Stars|Light reading, ve...| 2015-08-31|\n",
            "|         US|   14443051|R1PKMRYLDMVN2P|B00PQL9U4K|      26715694|         Wolf Hunter|Digital_Ebook_Pur...|          3|            0|          0|   N|                Y|                Good|This is a ok book...| 2015-08-31|\n",
            "|         US|   37039571|R1TR7VKTTJV505|B004FGMDOQ|     333044434|Miss Peregrine's ...|Digital_Ebook_Pur...|          5|            0|          0|   N|                N|          Five Stars|Great book! My st...| 2015-08-31|\n",
            "+-----------+-----------+--------------+----------+--------------+--------------------+--------------------+-----------+-------------+-----------+----+-----------------+--------------------+--------------------+-----------+\n",
            "only showing top 20 rows\n",
            "\n"
          ]
        }
      ]
    },
    {
      "cell_type": "markdown",
      "metadata": {
        "id": "2yUSe55VY-9t"
      },
      "source": [
        "### Create DataFrames to match tables"
      ]
    },
    {
      "cell_type": "code",
      "metadata": {
        "id": "C8REmY1aY-9u",
        "colab": {
          "base_uri": "https://localhost:8080/"
        },
        "outputId": "28c62804-500f-4763-ee91-535cedf60466"
      },
      "source": [
        "from pyspark.sql.functions import to_date\n",
        "# Read in the Review dataset as a DataFrame \n",
        "df=df.dropna().show(5)"
      ],
      "execution_count": 66,
      "outputs": [
        {
          "output_type": "stream",
          "name": "stdout",
          "text": [
            "+-----------+-----------+--------------+----------+--------------+--------------------+--------------------+-----------+-------------+-----------+----+-----------------+--------------------+--------------------+-----------+\n",
            "|marketplace|customer_id|     review_id|product_id|product_parent|       product_title|    product_category|star_rating|helpful_votes|total_votes|vine|verified_purchase|     review_headline|         review_body|review_date|\n",
            "+-----------+-----------+--------------+----------+--------------+--------------------+--------------------+-----------+-------------+-----------+----+-----------------+--------------------+--------------------+-----------+\n",
            "|         US|   35471030|R1C5OK9AND7PRP|B00AHK07V0|     175130663|Hunter's Moon (A ...|Digital_Ebook_Pur...|          5|            0|          0|   N|                Y|Shugak is like a ...|This is the most ...| 2015-08-31|\n",
            "|         US|   26579324|R333RNBQMPVUFT|B014085WTQ|     859232728|Flying Toward For...|Digital_Ebook_Pur...|          5|            0|          0|   N|                Y|For the young hea...|This story holds ...| 2015-08-31|\n",
            "|         US|    9152364|R2A2K0GTNSKXM1|B0113MFPN0|     411472516|Falling For A Rea...|Digital_Ebook_Pur...|          5|            0|          0|   N|                N|          Five Stars|A true love story...| 2015-08-31|\n",
            "|         US|   52087605|R365LAQ9REV876|B00T8RIK7G|     353828021|   The Good Neighbor|Digital_Ebook_Pur...|          3|            0|          0|   N|                Y|Not really my typ...|A bit contrived a...| 2015-08-31|\n",
            "|         US|   46454660|R294OF3SNH6SWZ|B00EMXBDMA|     803172158|The Martian: A Novel|Digital_Ebook_Pur...|          4|            0|          0|   N|                Y|Coming soon to a ...|Moved well. Seeme...| 2015-08-31|\n",
            "+-----------+-----------+--------------+----------+--------------+--------------------+--------------------+-----------+-------------+-----------+----+-----------------+--------------------+--------------------+-----------+\n",
            "only showing top 5 rows\n",
            "\n"
          ]
        }
      ]
    },
    {
      "cell_type": "code",
      "metadata": {
        "id": "B0TESUDRY-90",
        "colab": {
          "base_uri": "https://localhost:8080/"
        },
        "outputId": "dcbd58ac-9b4e-4a07-a22a-2f24d2430b0b"
      },
      "source": [
        "# Create the customers_table DataFrame\n",
        "customers_df = df.groupby(\"customer_id\").agg({\"customer_id\": \"count\"}).withColumnRenamed(\"count(customer_id)\", \"customer_count\")\n",
        "customers_df.show()"
      ],
      "execution_count": null,
      "outputs": [
        {
          "output_type": "stream",
          "name": "stdout",
          "text": [
            "+-----------+--------------+\n",
            "|customer_id|customer_count|\n",
            "+-----------+--------------+\n",
            "|   41341751|            18|\n",
            "|   14582882|             1|\n",
            "|   15158447|             7|\n",
            "|    3070853|            16|\n",
            "|   26248773|           511|\n",
            "|   50058978|             1|\n",
            "|   16667845|             3|\n",
            "|   14217455|             1|\n",
            "|   14754839|             6|\n",
            "|   35311351|             7|\n",
            "|   40182046|             1|\n",
            "|   47574496|             1|\n",
            "|   43133249|            10|\n",
            "|   44269342|           307|\n",
            "|   20688276|             1|\n",
            "|   12819130|             4|\n",
            "|    1154193|            21|\n",
            "|   52427235|             6|\n",
            "|   15948906|             1|\n",
            "|   22996409|            13|\n",
            "+-----------+--------------+\n",
            "only showing top 20 rows\n",
            "\n"
          ]
        }
      ]
    },
    {
      "cell_type": "code",
      "metadata": {
        "id": "4FwXA6UvY-96",
        "colab": {
          "base_uri": "https://localhost:8080/"
        },
        "outputId": "32690bdc-d668-4f9f-c2db-b7ec1b7f55ac"
      },
      "source": [
        "# Create the products_table DataFrame and drop duplicates. \n",
        "products_df = df.select([\"product_id\", \"product_title\"]).drop_duplicates((['product_id']))\n",
        "products_df.show()"
      ],
      "execution_count": null,
      "outputs": [
        {
          "output_type": "stream",
          "name": "stdout",
          "text": [
            "+----------+--------------------+\n",
            "|product_id|       product_title|\n",
            "+----------+--------------------+\n",
            "|068986843X|The Stolen Relic ...|\n",
            "|B000F83STC|      Erotic Flowers|\n",
            "|B000FA5KK0|            Trailin'|\n",
            "|B000FA5KKA|Interplanetary Hu...|\n",
            "|B000FA5L2W|Streetsmart Guide...|\n",
            "|B000FA5LMM|The Post-Traumati...|\n",
            "|B000FA5LTA|Schaum's Easy Out...|\n",
            "|B000FA5M9Y|First Fruit: The ...|\n",
            "|B000FA5MDU|Optical Networkin...|\n",
            "|B000FA5MVM|The Day of the Tr...|\n",
            "|B000FA5NOS|    The World Inside|\n",
            "|B000FA5ON8|How To Achieve Su...|\n",
            "|B000FA5PZU|The Red Tent - 20...|\n",
            "|B000FA5Q22|Warning of War: A...|\n",
            "|B000FA5Q40|Along Came a Spid...|\n",
            "|B000FA5Q4A|       Amateur Night|\n",
            "|B000FA5Q8G|Crashing the Part...|\n",
            "|B000FA5QEK|Rich Dad Poor Dad...|\n",
            "|B000FA5QFO| Shopgirl: A Novella|\n",
            "|B000FA5QIG|The Death of the ...|\n",
            "+----------+--------------------+\n",
            "only showing top 20 rows\n",
            "\n"
          ]
        }
      ]
    },
    {
      "cell_type": "code",
      "metadata": {
        "id": "MkqyCuNQY-9-",
        "colab": {
          "base_uri": "https://localhost:8080/"
        },
        "outputId": "0047cb27-1647-48e5-c19d-0add6594383c"
      },
      "source": [
        "# Create the review_id_table DataFrame. \n",
        "# Convert the 'review_date' column to a date datatype with to_date(\"review_date\", 'yyyy-MM-dd').alias(\"review_date\")\n",
        "review_id_df = df.select([\"review_id\", \"customer_id\", \"product_id\", \"product_parent\", to_date(\"review_date\", 'yyyy-MM-dd').alias(\"review_date\")])\n",
        "review_id_df.show()"
      ],
      "execution_count": null,
      "outputs": [
        {
          "output_type": "stream",
          "name": "stdout",
          "text": [
            "+--------------+-----------+----------+--------------+-----------+\n",
            "|     review_id|customer_id|product_id|product_parent|review_date|\n",
            "+--------------+-----------+----------+--------------+-----------+\n",
            "|R1C5OK9AND7PRP|   35471030|B00AHK07V0|     175130663| 2015-08-31|\n",
            "|R333RNBQMPVUFT|   26579324|B014085WTQ|     859232728| 2015-08-31|\n",
            "|R2A2K0GTNSKXM1|    9152364|B0113MFPN0|     411472516| 2015-08-31|\n",
            "|R365LAQ9REV876|   52087605|B00T8RIK7G|     353828021| 2015-08-31|\n",
            "|R294OF3SNH6SWZ|   46454660|B00EMXBDMA|     803172158| 2015-08-31|\n",
            "|R2OMRH58WYEEP9|   33168429|B00GL3OJIY|     325772386| 2015-08-31|\n",
            "| RBFXYUJZIH5JR|   18546798|B00RW30QE8|     236508296| 2015-08-31|\n",
            "|R2K2RSBNV42HU4|   47463409|B0101AE85Q|     924272105| 2015-08-31|\n",
            "|R2CLRFFJ5HJSU3|   11767467|B00IO7QAI2|     393059633| 2015-08-31|\n",
            "| RS1O7V45AADDO|   14241457|B00PM995TG|     529331494| 2015-08-31|\n",
            "| RYD2AF3KUC4OL|   52821351|B00K4C4GVI|     310020786| 2015-08-31|\n",
            "| RHQTCPUF1CXY2|   14416837|B00PUSKG8I|     683060701| 2015-08-31|\n",
            "|R3371UTDP6I1FU|   17189419|B00FNCSBCE|     813812785| 2015-08-31|\n",
            "|R2RI2S5Q90RG23|   44043796|B004XFYN9M|     972973628| 2015-08-31|\n",
            "| RCYE82T9GRT48|   24135769|B00K0OI42W|     994527755| 2015-08-31|\n",
            "|R12T8WK03VQNC5|   47496659|B00N2HHPQU|     886553830| 2015-08-31|\n",
            "|R3RVME26X4DGJX|   21051459|B00ZPCLT0S|     296387019| 2015-08-31|\n",
            "|R3BME7NLVCMJHW|   45295639|B00QSNV82C|     506388384| 2015-08-31|\n",
            "|R1PKMRYLDMVN2P|   14443051|B00PQL9U4K|      26715694| 2015-08-31|\n",
            "|R1TR7VKTTJV505|   37039571|B004FGMDOQ|     333044434| 2015-08-31|\n",
            "+--------------+-----------+----------+--------------+-----------+\n",
            "only showing top 20 rows\n",
            "\n"
          ]
        }
      ]
    },
    {
      "cell_type": "code",
      "metadata": {
        "id": "lzMmkdKmY--D",
        "colab": {
          "base_uri": "https://localhost:8080/"
        },
        "outputId": "a44b3c25-6271-4d3c-b5d1-acad00b73498"
      },
      "source": [
        "# Create the vine_table DataFrame\n",
        "from pyspark.sql.types import IntegerType\n",
        "vine_df = df.select([\"review_id\", df[\"star_rating\"].cast('int'), \"helpful_votes\", \"total_votes\", \"vine\", \"verified_purchase\"])\n",
        "vine_df.show()"
      ],
      "execution_count": null,
      "outputs": [
        {
          "output_type": "stream",
          "name": "stdout",
          "text": [
            "+--------------+-----------+-------------+-----------+----+-----------------+\n",
            "|     review_id|star_rating|helpful_votes|total_votes|vine|verified_purchase|\n",
            "+--------------+-----------+-------------+-----------+----+-----------------+\n",
            "|R1C5OK9AND7PRP|          5|            0|          0|   N|                Y|\n",
            "|R333RNBQMPVUFT|          5|            0|          0|   N|                Y|\n",
            "|R2A2K0GTNSKXM1|          5|            0|          0|   N|                N|\n",
            "|R365LAQ9REV876|          3|            0|          0|   N|                Y|\n",
            "|R294OF3SNH6SWZ|          4|            0|          0|   N|                Y|\n",
            "|R2OMRH58WYEEP9|          5|            0|          0|   N|                N|\n",
            "| RBFXYUJZIH5JR|          5|            0|          0|   N|                Y|\n",
            "|R2K2RSBNV42HU4|          5|            0|          0|   N|                N|\n",
            "|R2CLRFFJ5HJSU3|          4|            0|          0|   N|                N|\n",
            "| RS1O7V45AADDO|          4|            0|          0|   N|                Y|\n",
            "| RYD2AF3KUC4OL|          5|            2|          2|   N|                Y|\n",
            "| RHQTCPUF1CXY2|          4|            0|          0|   N|                Y|\n",
            "|R3371UTDP6I1FU|          5|            0|          0|   N|                Y|\n",
            "|R2RI2S5Q90RG23|          5|            0|          0|   N|                Y|\n",
            "| RCYE82T9GRT48|          5|            0|          0|   N|                Y|\n",
            "|R12T8WK03VQNC5|          4|            1|          1|   N|                Y|\n",
            "|R3RVME26X4DGJX|          5|            0|          0|   N|                N|\n",
            "|R3BME7NLVCMJHW|          4|            0|          0|   N|                Y|\n",
            "|R1PKMRYLDMVN2P|          3|            0|          0|   N|                Y|\n",
            "|R1TR7VKTTJV505|          5|            0|          0|   N|                N|\n",
            "+--------------+-----------+-------------+-----------+----+-----------------+\n",
            "only showing top 20 rows\n",
            "\n"
          ]
        }
      ]
    },
    {
      "cell_type": "markdown",
      "metadata": {
        "id": "jITZhLkmY--J"
      },
      "source": [
        "### Connect to the AWS RDS instance and write each DataFrame to its table. "
      ]
    },
    {
      "cell_type": "code",
      "metadata": {
        "id": "7jiUvs1aY--L",
        "colab": {
          "base_uri": "https://localhost:8080/"
        },
        "outputId": "ffee2e2e-2c0b-453f-9066-b0fe73b86ada"
      },
      "source": [
        "# Store environmental variable\n",
        "from getpass import getpass\n",
        "password = getpass('Enter database password')\n",
        "# Configure settings for RDS\n",
        "mode = \"append\"\n",
        "jdbc_url=\"jdbc:postgresql://dataviz.cz4vtglvaszy.us-west-2.rds.amazonaws.com\"\n",
        "config = {\"user\":\"postgres\", \n",
        "          \"password\": password, \n",
        "          \"driver\":\"org.postgresql.Driver\"}"
      ],
      "execution_count": 68,
      "outputs": [
        {
          "name": "stdout",
          "output_type": "stream",
          "text": [
            "Enter database password··········\n"
          ]
        }
      ]
    },
    {
      "cell_type": "code",
      "metadata": {
        "id": "T2zgZ-aKY--Q"
      },
      "source": [
        "# Write review_id_df to table in RDS\n",
        "review_id_df.write.jdbc(url=jdbc_url, table='review_id_table', mode=mode, properties=config)"
      ],
      "execution_count": null,
      "outputs": []
    },
    {
      "cell_type": "code",
      "metadata": {
        "id": "1m3yzn-LY--U"
      },
      "source": [
        "# Write products_df to table in RDS\n",
        "# about 3 min\n",
        "products_df.write.jdbc(url=jdbc_url, table='products_table', mode=mode, properties=config)"
      ],
      "execution_count": null,
      "outputs": []
    },
    {
      "cell_type": "code",
      "metadata": {
        "id": "KbXri15fY--Z"
      },
      "source": [
        "# Write customers_df to table in RDS\n",
        "# 5 min 14 s\n",
        "customers_df.write.jdbc(url=jdbc_url, table='customers_table', mode=mode, properties=config)"
      ],
      "execution_count": null,
      "outputs": []
    },
    {
      "cell_type": "code",
      "metadata": {
        "id": "XdQknSHLY--e"
      },
      "source": [
        "# Write vine_df to table in RDS\n",
        "# 11 minutes\n",
        "vine_df.write.jdbc(url=jdbc_url, table='vine_table', mode=mode, properties=config)"
      ],
      "execution_count": null,
      "outputs": []
    },
    {
      "cell_type": "code",
      "source": [
        ""
      ],
      "metadata": {
        "id": "w1rUNpN0vZNO"
      },
      "execution_count": null,
      "outputs": []
    }
  ]
}