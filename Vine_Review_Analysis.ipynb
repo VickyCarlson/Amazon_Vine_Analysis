{
  "nbformat": 4,
  "nbformat_minor": 0,
  "metadata": {
    "colab": {
      "name": "Vine_Review_Analysis.ipynb",
      "provenance": [],
      "collapsed_sections": [],
      "include_colab_link": true
    },
    "kernelspec": {
      "name": "python3",
      "display_name": "Python 3"
    },
    "nteract": {
      "version": "0.12.3"
    },
    "language_info": {
      "name": "python"
    }
  },
  "cells": [
    {
      "cell_type": "markdown",
      "metadata": {
        "id": "view-in-github",
        "colab_type": "text"
      },
      "source": [
        "<a href=\"https://colab.research.google.com/github/VickyCarlson/Amazon_Vine_Analysis/blob/main/Vine_Review_Analysis.ipynb\" target=\"_parent\"><img src=\"https://colab.research.google.com/assets/colab-badge.svg\" alt=\"Open In Colab\"/></a>"
      ]
    },
    {
      "cell_type": "code",
      "metadata": {
        "id": "V58rxea0HqSa",
        "colab": {
          "base_uri": "https://localhost:8080/"
        },
        "outputId": "ba08cd18-b637-4565-9605-1612622fd508"
      },
      "source": [
        "import os\n",
        "# Find the latest version of spark 3.0 from http://www.apache.org/dist/spark/ and enter as the spark version\n",
        "# For example:\n",
        "# spark_version = 'spark-3.0.3'\n",
        "spark_version = 'spark-3.2.0'\n",
        "os.environ['SPARK_VERSION']=spark_version\n",
        "\n",
        "# Install Spark and Java\n",
        "!apt-get update\n",
        "!apt-get install openjdk-11-jdk-headless -qq > /dev/null\n",
        "!wget -q http://www.apache.org/dist/spark/$SPARK_VERSION/$SPARK_VERSION-bin-hadoop2.7.tgz\n",
        "!tar xf $SPARK_VERSION-bin-hadoop2.7.tgz\n",
        "!pip install -q findspark\n",
        "\n",
        "# Set Environment Variables\n",
        "import os\n",
        "os.environ[\"JAVA_HOME\"] = \"/usr/lib/jvm/java-11-openjdk-amd64\"\n",
        "os.environ[\"SPARK_HOME\"] = f\"/content/{spark_version}-bin-hadoop2.7\"\n",
        "\n",
        "# Start a SparkSession\n",
        "import findspark\n",
        "findspark.init()"
      ],
      "execution_count": 1,
      "outputs": [
        {
          "output_type": "stream",
          "name": "stdout",
          "text": [
            "\r0% [Working]\r            \rHit:1 http://ppa.launchpad.net/c2d4u.team/c2d4u4.0+/ubuntu bionic InRelease\n",
            "\r0% [Connecting to archive.ubuntu.com] [Connecting to security.ubuntu.com (91.18\r0% [1 InRelease gpgv 15.9 kB] [Connecting to archive.ubuntu.com] [Connecting to\r                                                                               \rHit:2 http://ppa.launchpad.net/cran/libgit2/ubuntu bionic InRelease\n",
            "\r0% [1 InRelease gpgv 15.9 kB] [Connecting to archive.ubuntu.com] [Connecting to\r                                                                               \rHit:3 http://ppa.launchpad.net/deadsnakes/ppa/ubuntu bionic InRelease\n",
            "\r0% [1 InRelease gpgv 15.9 kB] [Connecting to archive.ubuntu.com] [Connecting to\r                                                                               \rHit:4 https://cloud.r-project.org/bin/linux/ubuntu bionic-cran40/ InRelease\n",
            "\r0% [1 InRelease gpgv 15.9 kB] [Connecting to archive.ubuntu.com] [Connecting to\r                                                                               \rHit:5 http://ppa.launchpad.net/graphics-drivers/ppa/ubuntu bionic InRelease\n",
            "\r0% [1 InRelease gpgv 15.9 kB] [Connecting to archive.ubuntu.com] [Waiting for h\r                                                                               \rHit:6 http://archive.ubuntu.com/ubuntu bionic InRelease\n",
            "\r                                                                               \r0% [1 InRelease gpgv 15.9 kB] [Waiting for headers] [Waiting for headers]\r                                                                         \rHit:7 http://archive.ubuntu.com/ubuntu bionic-updates InRelease\n",
            "\r0% [1 InRelease gpgv 15.9 kB] [Waiting for headers] [Waiting for headers] [Wait\r                                                                               \rHit:8 http://archive.ubuntu.com/ubuntu bionic-backports InRelease\n",
            "\r                                                                               \r0% [1 InRelease gpgv 15.9 kB] [Waiting for headers] [Waiting for headers]\r                                                                         \rHit:9 http://security.ubuntu.com/ubuntu bionic-security InRelease\n",
            "Ign:10 https://developer.download.nvidia.com/compute/cuda/repos/ubuntu1804/x86_64  InRelease\n",
            "Ign:11 https://developer.download.nvidia.com/compute/machine-learning/repos/ubuntu1804/x86_64  InRelease\n",
            "Hit:12 https://developer.download.nvidia.com/compute/cuda/repos/ubuntu1804/x86_64  Release\n",
            "Hit:13 https://developer.download.nvidia.com/compute/machine-learning/repos/ubuntu1804/x86_64  Release\n",
            "Reading package lists... Done\n"
          ]
        }
      ]
    },
    {
      "cell_type": "code",
      "metadata": {
        "id": "_xKwTpATHqSe",
        "colab": {
          "base_uri": "https://localhost:8080/"
        },
        "outputId": "adc409aa-9ce1-4278-c9d7-f5fdb9d718fa"
      },
      "source": [
        "# Download the Postgres driver that will allow Spark to interact with Postgres.\n",
        "!wget https://jdbc.postgresql.org/download/postgresql-42.2.16.jar"
      ],
      "execution_count": 2,
      "outputs": [
        {
          "output_type": "stream",
          "name": "stdout",
          "text": [
            "--2022-01-11 00:36:15--  https://jdbc.postgresql.org/download/postgresql-42.2.16.jar\n",
            "Resolving jdbc.postgresql.org (jdbc.postgresql.org)... 72.32.157.228, 2001:4800:3e1:1::228\n",
            "Connecting to jdbc.postgresql.org (jdbc.postgresql.org)|72.32.157.228|:443... connected.\n",
            "HTTP request sent, awaiting response... 200 OK\n",
            "Length: 1002883 (979K) [application/java-archive]\n",
            "Saving to: ‘postgresql-42.2.16.jar.2’\n",
            "\n",
            "postgresql-42.2.16. 100%[===================>] 979.38K  1.69MB/s    in 0.6s    \n",
            "\n",
            "2022-01-11 00:36:16 (1.69 MB/s) - ‘postgresql-42.2.16.jar.2’ saved [1002883/1002883]\n",
            "\n"
          ]
        }
      ]
    },
    {
      "cell_type": "code",
      "source": [
        "from pyspark.sql import SparkSession\n",
        "spark = SparkSession.builder.appName(\"M16-Amazon-Challenge\").config(\"spark.driver.extraClassPath\",\"/content/postgresql-42.2.16.jar\").getOrCreate()"
      ],
      "metadata": {
        "id": "MdNb0-CFkSp5"
      },
      "execution_count": 4,
      "outputs": []
    },
    {
      "cell_type": "code",
      "metadata": {
        "id": "MMqDAjVS0KN9",
        "colab": {
          "base_uri": "https://localhost:8080/"
        },
        "outputId": "bdd448a2-3d67-46be-bcb8-4a040acae8f5"
      },
      "source": [
        "from pyspark import SparkFiles\n",
        "url = \"https://bookrevs.s3.us-west-2.amazonaws.com/vine_table.csv\"\n",
        "spark.sparkContext.addFile(url)\n",
        "vine_df = spark.read.option(\"encoding\", \"UTF-8\").csv(SparkFiles.get(\"vine_table.csv\"), sep=\",\", header=True, inferSchema=True)\n",
        "vine_df.show()"
      ],
      "execution_count": 6,
      "outputs": [
        {
          "output_type": "stream",
          "name": "stdout",
          "text": [
            "+--------------+-----------+-------------+-----------+----+-----------------+\n",
            "|     review_id|star_rating|helpful_votes|total_votes|vine|verified_purchase|\n",
            "+--------------+-----------+-------------+-----------+----+-----------------+\n",
            "|R1C5OK9AND7PRP|          5|            0|          0|   N|                Y|\n",
            "|R333RNBQMPVUFT|          5|            0|          0|   N|                Y|\n",
            "|R2A2K0GTNSKXM1|          5|            0|          0|   N|                N|\n",
            "|R365LAQ9REV876|          3|            0|          0|   N|                Y|\n",
            "|R294OF3SNH6SWZ|          4|            0|          0|   N|                Y|\n",
            "|R2OMRH58WYEEP9|          5|            0|          0|   N|                N|\n",
            "| RBFXYUJZIH5JR|          5|            0|          0|   N|                Y|\n",
            "|R2K2RSBNV42HU4|          5|            0|          0|   N|                N|\n",
            "|R2CLRFFJ5HJSU3|          4|            0|          0|   N|                N|\n",
            "| RS1O7V45AADDO|          4|            0|          0|   N|                Y|\n",
            "| RYD2AF3KUC4OL|          5|            2|          2|   N|                Y|\n",
            "| RHQTCPUF1CXY2|          4|            0|          0|   N|                Y|\n",
            "|R3371UTDP6I1FU|          5|            0|          0|   N|                Y|\n",
            "|R2RI2S5Q90RG23|          5|            0|          0|   N|                Y|\n",
            "| RCYE82T9GRT48|          5|            0|          0|   N|                Y|\n",
            "|R12T8WK03VQNC5|          4|            1|          1|   N|                Y|\n",
            "|R3RVME26X4DGJX|          5|            0|          0|   N|                N|\n",
            "|R3BME7NLVCMJHW|          4|            0|          0|   N|                Y|\n",
            "|R1PKMRYLDMVN2P|          3|            0|          0|   N|                Y|\n",
            "|R1TR7VKTTJV505|          5|            0|          0|   N|                N|\n",
            "+--------------+-----------+-------------+-----------+----+-----------------+\n",
            "only showing top 20 rows\n",
            "\n"
          ]
        }
      ]
    },
    {
      "cell_type": "code",
      "source": [
        "vine_total_ct = vine_df.count()\n",
        "vine_total_ct"
      ],
      "metadata": {
        "colab": {
          "base_uri": "https://localhost:8080/"
        },
        "id": "75ZLuDkglWTy",
        "outputId": "f8f9baab-00bb-4fa5-863c-3e9bac199be5"
      },
      "execution_count": 7,
      "outputs": [
        {
          "output_type": "execute_result",
          "data": {
            "text/plain": [
              "12520722"
            ]
          },
          "metadata": {},
          "execution_count": 7
        }
      ]
    },
    {
      "cell_type": "code",
      "source": [
        "#Filter the data and create a new DataFrame or table to retrieve all the rows where the total_votes count is equal to or greater than 20\n",
        "vine_total_df = df.filter(\"total_votes>= 20\")\n",
        "vine_total_df.show()\n",
        "vine_total_df.count()"
      ],
      "metadata": {
        "colab": {
          "base_uri": "https://localhost:8080/"
        },
        "id": "buXaA-q0oodW",
        "outputId": "5f122dc7-bf79-4112-c802-0806af0a41b1"
      },
      "execution_count": 8,
      "outputs": [
        {
          "output_type": "stream",
          "name": "stdout",
          "text": [
            "+--------------+-----------+-------------+-----------+----+-----------------+\n",
            "|     review_id|star_rating|helpful_votes|total_votes|vine|verified_purchase|\n",
            "+--------------+-----------+-------------+-----------+----+-----------------+\n",
            "|R2HQLKREFKG25D|          5|           21|         21|   N|                Y|\n",
            "| RWIL1XU6YM0U4|          5|           20|         20|   N|                N|\n",
            "|R28SB7Q1WBJRFM|          5|           25|         27|   N|                N|\n",
            "|R3PVKAWMZW55U8|          5|          106|        119|   N|                Y|\n",
            "|R21JS1HIQV1H7W|          3|           17|         22|   N|                Y|\n",
            "|R2IBPJ9OIDSZHW|          3|            0|         37|   N|                Y|\n",
            "|R3SR8MPHQATFCJ|          1|            8|         20|   N|                Y|\n",
            "|R245IE9DATP3ZL|          3|           15|         23|   N|                Y|\n",
            "| RMK55ZA87SPQX|          1|           22|         24|   N|                Y|\n",
            "| RB1Y3RO4J4854|          3|           23|         30|   N|                Y|\n",
            "|R23P75H9VX5RLM|          5|           32|         36|   N|                Y|\n",
            "|R124TPC0B72OMW|          1|            1|         30|   N|                N|\n",
            "|R3JCH5P63TIQ4E|          5|           19|         20|   N|                N|\n",
            "| RLBP3287V3P5E|          3|           24|         30|   N|                Y|\n",
            "| RYA7IZ8VHN5P8|          2|           37|         42|   N|                Y|\n",
            "| RE754WU5TGN9E|          5|           39|         44|   N|                Y|\n",
            "|  RVNRTIVFKBBI|          5|           23|         23|   N|                N|\n",
            "|R26GCFJG6427T4|          5|           29|         29|   N|                Y|\n",
            "|R31X4TF63XSPKJ|          5|           30|         35|   N|                Y|\n",
            "| R5GHZAQ911CJV|          3|           41|         51|   N|                N|\n",
            "+--------------+-----------+-------------+-----------+----+-----------------+\n",
            "only showing top 20 rows\n",
            "\n"
          ]
        },
        {
          "output_type": "execute_result",
          "data": {
            "text/plain": [
              "70726"
            ]
          },
          "metadata": {},
          "execution_count": 8
        }
      ]
    },
    {
      "cell_type": "code",
      "source": [
        "# Filter the new DataFrame create a new DataFrame to retrieve all the rows where the number of helpful_votes divided by total_votes is equal to or greater than 50%.\n",
        "vine_helpful_votes_df = vine_total_df.filter(\"(helpful_votes/total_votes)>=0.5\")\n",
        "vine_helpful_votes_df.show()\n",
        "vine_helpful_votes_df.count()"
      ],
      "metadata": {
        "colab": {
          "base_uri": "https://localhost:8080/"
        },
        "id": "yUK753yXpfIZ",
        "outputId": "27b95243-2653-4620-94be-3e6e4b25bd33"
      },
      "execution_count": 12,
      "outputs": [
        {
          "output_type": "stream",
          "name": "stdout",
          "text": [
            "+--------------+-----------+-------------+-----------+----+-----------------+\n",
            "|     review_id|star_rating|helpful_votes|total_votes|vine|verified_purchase|\n",
            "+--------------+-----------+-------------+-----------+----+-----------------+\n",
            "|R2HQLKREFKG25D|          5|           21|         21|   N|                Y|\n",
            "| RWIL1XU6YM0U4|          5|           20|         20|   N|                N|\n",
            "|R28SB7Q1WBJRFM|          5|           25|         27|   N|                N|\n",
            "|R3PVKAWMZW55U8|          5|          106|        119|   N|                Y|\n",
            "|R21JS1HIQV1H7W|          3|           17|         22|   N|                Y|\n",
            "|R245IE9DATP3ZL|          3|           15|         23|   N|                Y|\n",
            "| RMK55ZA87SPQX|          1|           22|         24|   N|                Y|\n",
            "| RB1Y3RO4J4854|          3|           23|         30|   N|                Y|\n",
            "|R23P75H9VX5RLM|          5|           32|         36|   N|                Y|\n",
            "|R3JCH5P63TIQ4E|          5|           19|         20|   N|                N|\n",
            "| RLBP3287V3P5E|          3|           24|         30|   N|                Y|\n",
            "| RYA7IZ8VHN5P8|          2|           37|         42|   N|                Y|\n",
            "| RE754WU5TGN9E|          5|           39|         44|   N|                Y|\n",
            "|  RVNRTIVFKBBI|          5|           23|         23|   N|                N|\n",
            "|R26GCFJG6427T4|          5|           29|         29|   N|                Y|\n",
            "|R31X4TF63XSPKJ|          5|           30|         35|   N|                Y|\n",
            "| R5GHZAQ911CJV|          3|           41|         51|   N|                N|\n",
            "|R109YPQMPNG6J3|          5|           20|         22|   N|                Y|\n",
            "|R1KKWEQ84QFMAU|          5|           36|         41|   N|                N|\n",
            "|R1KAT4ZFWG8Q65|          5|          116|        122|   N|                Y|\n",
            "+--------------+-----------+-------------+-----------+----+-----------------+\n",
            "only showing top 20 rows\n",
            "\n"
          ]
        },
        {
          "output_type": "execute_result",
          "data": {
            "text/plain": [
              "54092"
            ]
          },
          "metadata": {},
          "execution_count": 12
        }
      ]
    },
    {
      "cell_type": "code",
      "source": [
        "vine_yes_df = vine_helpful_votes_df.filter(\"vine=='Y'\")\n",
        "vine_yes_df.show()\n",
        "vine_yes_df.count()"
      ],
      "metadata": {
        "colab": {
          "base_uri": "https://localhost:8080/"
        },
        "id": "p6trz7BO5eM2",
        "outputId": "9d1040b3-962f-438a-ea4b-de79c3723a5b"
      },
      "execution_count": 10,
      "outputs": [
        {
          "output_type": "stream",
          "name": "stdout",
          "text": [
            "+---------+-----------+-------------+-----------+----+-----------------+\n",
            "|review_id|star_rating|helpful_votes|total_votes|vine|verified_purchase|\n",
            "+---------+-----------+-------------+-----------+----+-----------------+\n",
            "+---------+-----------+-------------+-----------+----+-----------------+\n",
            "\n"
          ]
        },
        {
          "output_type": "execute_result",
          "data": {
            "text/plain": [
              "0"
            ]
          },
          "metadata": {},
          "execution_count": 10
        }
      ]
    },
    {
      "cell_type": "code",
      "source": [
        "vine_no_df = vine_helpful_votes_df.filter(\"vine=='N'\")\n",
        "vine_no_df.show()\n",
        "vine_no_df.count()"
      ],
      "metadata": {
        "colab": {
          "base_uri": "https://localhost:8080/"
        },
        "id": "XSDXSmjm6WWJ",
        "outputId": "07088952-255e-45e3-e862-196476f642c5"
      },
      "execution_count": 11,
      "outputs": [
        {
          "output_type": "stream",
          "name": "stdout",
          "text": [
            "+--------------+-----------+-------------+-----------+----+-----------------+\n",
            "|     review_id|star_rating|helpful_votes|total_votes|vine|verified_purchase|\n",
            "+--------------+-----------+-------------+-----------+----+-----------------+\n",
            "|R2HQLKREFKG25D|          5|           21|         21|   N|                Y|\n",
            "| RWIL1XU6YM0U4|          5|           20|         20|   N|                N|\n",
            "|R28SB7Q1WBJRFM|          5|           25|         27|   N|                N|\n",
            "|R3PVKAWMZW55U8|          5|          106|        119|   N|                Y|\n",
            "|R21JS1HIQV1H7W|          3|           17|         22|   N|                Y|\n",
            "|R245IE9DATP3ZL|          3|           15|         23|   N|                Y|\n",
            "| RMK55ZA87SPQX|          1|           22|         24|   N|                Y|\n",
            "| RB1Y3RO4J4854|          3|           23|         30|   N|                Y|\n",
            "|R23P75H9VX5RLM|          5|           32|         36|   N|                Y|\n",
            "|R3JCH5P63TIQ4E|          5|           19|         20|   N|                N|\n",
            "| RLBP3287V3P5E|          3|           24|         30|   N|                Y|\n",
            "| RYA7IZ8VHN5P8|          2|           37|         42|   N|                Y|\n",
            "| RE754WU5TGN9E|          5|           39|         44|   N|                Y|\n",
            "|  RVNRTIVFKBBI|          5|           23|         23|   N|                N|\n",
            "|R26GCFJG6427T4|          5|           29|         29|   N|                Y|\n",
            "|R31X4TF63XSPKJ|          5|           30|         35|   N|                Y|\n",
            "| R5GHZAQ911CJV|          3|           41|         51|   N|                N|\n",
            "|R109YPQMPNG6J3|          5|           20|         22|   N|                Y|\n",
            "|R1KKWEQ84QFMAU|          5|           36|         41|   N|                N|\n",
            "|R1KAT4ZFWG8Q65|          5|          116|        122|   N|                Y|\n",
            "+--------------+-----------+-------------+-----------+----+-----------------+\n",
            "only showing top 20 rows\n",
            "\n"
          ]
        },
        {
          "output_type": "execute_result",
          "data": {
            "text/plain": [
              "54092"
            ]
          },
          "metadata": {},
          "execution_count": 11
        }
      ]
    },
    {
      "cell_type": "code",
      "source": [
        "vine_no_df_ct = vine_no_df.count()\n",
        "vine_no_df_ct"
      ],
      "metadata": {
        "colab": {
          "base_uri": "https://localhost:8080/"
        },
        "id": "fCtRTgGY8fHD",
        "outputId": "4524315b-c67b-494b-d872-5149ab33b61f"
      },
      "execution_count": 13,
      "outputs": [
        {
          "output_type": "execute_result",
          "data": {
            "text/plain": [
              "54092"
            ]
          },
          "metadata": {},
          "execution_count": 13
        }
      ]
    },
    {
      "cell_type": "code",
      "source": [
        "vine_helpful_votes_df_ct= vine_helpful_votes_df.count()\n",
        "vine_helpful_votes_df_ct"
      ],
      "metadata": {
        "colab": {
          "base_uri": "https://localhost:8080/"
        },
        "id": "sB2L6woUD6BP",
        "outputId": "c371c799-2e4f-40e6-92c0-cf1fb5b69e6a"
      },
      "execution_count": 14,
      "outputs": [
        {
          "output_type": "execute_result",
          "data": {
            "text/plain": [
              "54092"
            ]
          },
          "metadata": {},
          "execution_count": 14
        }
      ]
    },
    {
      "cell_type": "code",
      "source": [
        "total_helpful_reviews_ct = vine_helpful_votes_df_ct\n",
        "total_helpful_reviews_ct"
      ],
      "metadata": {
        "colab": {
          "base_uri": "https://localhost:8080/"
        },
        "id": "KrM3T92Q6p13",
        "outputId": "e0138e61-67a1-46bc-aef7-8c4e2ffbccc4"
      },
      "execution_count": 15,
      "outputs": [
        {
          "output_type": "execute_result",
          "data": {
            "text/plain": [
              "54092"
            ]
          },
          "metadata": {},
          "execution_count": 15
        }
      ]
    },
    {
      "cell_type": "code",
      "source": [
        "Five_Star_All_df = vine_helpful_votes_df.filter(\"star_rating==5.0\")\n",
        "Five_Star_All_df.show()\n"
      ],
      "metadata": {
        "colab": {
          "base_uri": "https://localhost:8080/"
        },
        "id": "mVdMPx7fmla8",
        "outputId": "0a807380-0abd-4b8a-f518-5293873476a1"
      },
      "execution_count": 20,
      "outputs": [
        {
          "output_type": "stream",
          "name": "stdout",
          "text": [
            "+--------------+-----------+-------------+-----------+----+-----------------+\n",
            "|     review_id|star_rating|helpful_votes|total_votes|vine|verified_purchase|\n",
            "+--------------+-----------+-------------+-----------+----+-----------------+\n",
            "|R2HQLKREFKG25D|          5|           21|         21|   N|                Y|\n",
            "| RWIL1XU6YM0U4|          5|           20|         20|   N|                N|\n",
            "|R28SB7Q1WBJRFM|          5|           25|         27|   N|                N|\n",
            "|R3PVKAWMZW55U8|          5|          106|        119|   N|                Y|\n",
            "|R23P75H9VX5RLM|          5|           32|         36|   N|                Y|\n",
            "|R3JCH5P63TIQ4E|          5|           19|         20|   N|                N|\n",
            "| RE754WU5TGN9E|          5|           39|         44|   N|                Y|\n",
            "|  RVNRTIVFKBBI|          5|           23|         23|   N|                N|\n",
            "|R26GCFJG6427T4|          5|           29|         29|   N|                Y|\n",
            "|R31X4TF63XSPKJ|          5|           30|         35|   N|                Y|\n",
            "|R109YPQMPNG6J3|          5|           20|         22|   N|                Y|\n",
            "|R1KKWEQ84QFMAU|          5|           36|         41|   N|                N|\n",
            "|R1KAT4ZFWG8Q65|          5|          116|        122|   N|                Y|\n",
            "| RTBD3OS47PSKS|          5|           21|         22|   N|                N|\n",
            "|R25JYT9OOGCKRF|          5|          176|        202|   N|                Y|\n",
            "|R3MSUS8K98C44Q|          5|           34|         37|   N|                Y|\n",
            "| R6OONR9G64WNG|          5|           30|         32|   N|                Y|\n",
            "|R3EYM09WEJLZ2G|          5|           19|         20|   N|                Y|\n",
            "|R209ZKHC70IBXL|          5|           35|         39|   N|                Y|\n",
            "|R2KAM1REDABOJK|          5|           25|         30|   N|                Y|\n",
            "+--------------+-----------+-------------+-----------+----+-----------------+\n",
            "only showing top 20 rows\n",
            "\n"
          ]
        }
      ]
    },
    {
      "cell_type": "code",
      "source": [
        "Five_Star_All_df_ct = Five_Star_All_df.count()\n",
        "Five_Star_All_df_ct"
      ],
      "metadata": {
        "colab": {
          "base_uri": "https://localhost:8080/"
        },
        "id": "WqiGdnpHnXtg",
        "outputId": "ae409fb5-e19f-412a-849f-b32a976c1b6e"
      },
      "execution_count": 21,
      "outputs": [
        {
          "output_type": "execute_result",
          "data": {
            "text/plain": [
              "20918"
            ]
          },
          "metadata": {},
          "execution_count": 21
        }
      ]
    },
    {
      "cell_type": "code",
      "source": [
        "Five_Star_No_df = Five_Star_All_df.filter(\"vine=='N'\")\n",
        "Five_Star_No_df.show()"
      ],
      "metadata": {
        "colab": {
          "base_uri": "https://localhost:8080/"
        },
        "id": "_gdSwl_WA_e0",
        "outputId": "74e7c80e-0e10-4852-c49b-450975457225"
      },
      "execution_count": 22,
      "outputs": [
        {
          "output_type": "stream",
          "name": "stdout",
          "text": [
            "+--------------+-----------+-------------+-----------+----+-----------------+\n",
            "|     review_id|star_rating|helpful_votes|total_votes|vine|verified_purchase|\n",
            "+--------------+-----------+-------------+-----------+----+-----------------+\n",
            "|R2HQLKREFKG25D|          5|           21|         21|   N|                Y|\n",
            "| RWIL1XU6YM0U4|          5|           20|         20|   N|                N|\n",
            "|R28SB7Q1WBJRFM|          5|           25|         27|   N|                N|\n",
            "|R3PVKAWMZW55U8|          5|          106|        119|   N|                Y|\n",
            "|R23P75H9VX5RLM|          5|           32|         36|   N|                Y|\n",
            "|R3JCH5P63TIQ4E|          5|           19|         20|   N|                N|\n",
            "| RE754WU5TGN9E|          5|           39|         44|   N|                Y|\n",
            "|  RVNRTIVFKBBI|          5|           23|         23|   N|                N|\n",
            "|R26GCFJG6427T4|          5|           29|         29|   N|                Y|\n",
            "|R31X4TF63XSPKJ|          5|           30|         35|   N|                Y|\n",
            "|R109YPQMPNG6J3|          5|           20|         22|   N|                Y|\n",
            "|R1KKWEQ84QFMAU|          5|           36|         41|   N|                N|\n",
            "|R1KAT4ZFWG8Q65|          5|          116|        122|   N|                Y|\n",
            "| RTBD3OS47PSKS|          5|           21|         22|   N|                N|\n",
            "|R25JYT9OOGCKRF|          5|          176|        202|   N|                Y|\n",
            "|R3MSUS8K98C44Q|          5|           34|         37|   N|                Y|\n",
            "| R6OONR9G64WNG|          5|           30|         32|   N|                Y|\n",
            "|R3EYM09WEJLZ2G|          5|           19|         20|   N|                Y|\n",
            "|R209ZKHC70IBXL|          5|           35|         39|   N|                Y|\n",
            "|R2KAM1REDABOJK|          5|           25|         30|   N|                Y|\n",
            "+--------------+-----------+-------------+-----------+----+-----------------+\n",
            "only showing top 20 rows\n",
            "\n"
          ]
        }
      ]
    },
    {
      "cell_type": "code",
      "source": [
        "Five_Star_No_df_ct = Five_Star_No_df.count()\n",
        "Five_Star_No_df_ct"
      ],
      "metadata": {
        "colab": {
          "base_uri": "https://localhost:8080/"
        },
        "id": "kGYNu3dAH5oC",
        "outputId": "7922cc2e-bcdf-4af9-d6e6-113a09529f34"
      },
      "execution_count": 23,
      "outputs": [
        {
          "output_type": "execute_result",
          "data": {
            "text/plain": [
              "20918"
            ]
          },
          "metadata": {},
          "execution_count": 23
        }
      ]
    },
    {
      "cell_type": "code",
      "source": [
        "Five_Star_Yes_df = Five_Star_All_df.filter(\"vine=='Y'\")\n",
        "Five_Star_Yes_df.show()"
      ],
      "metadata": {
        "colab": {
          "base_uri": "https://localhost:8080/"
        },
        "id": "2hH7MLteFk_s",
        "outputId": "5b0409dc-85a1-43ca-b44b-8e035531cc9b"
      },
      "execution_count": 24,
      "outputs": [
        {
          "output_type": "stream",
          "name": "stdout",
          "text": [
            "+---------+-----------+-------------+-----------+----+-----------------+\n",
            "|review_id|star_rating|helpful_votes|total_votes|vine|verified_purchase|\n",
            "+---------+-----------+-------------+-----------+----+-----------------+\n",
            "+---------+-----------+-------------+-----------+----+-----------------+\n",
            "\n"
          ]
        }
      ]
    },
    {
      "cell_type": "code",
      "source": [
        "Five_Star_Yes_df_ct = Five_Star_Yes_df.count()\n",
        "Five_Star_Yes_df_ct"
      ],
      "metadata": {
        "colab": {
          "base_uri": "https://localhost:8080/"
        },
        "id": "nmP81h9MMVtH",
        "outputId": "52a2a445-d22f-47c6-8b11-71e9990b79e8"
      },
      "execution_count": 25,
      "outputs": [
        {
          "output_type": "execute_result",
          "data": {
            "text/plain": [
              "0"
            ]
          },
          "metadata": {},
          "execution_count": 25
        }
      ]
    },
    {
      "cell_type": "code",
      "source": [
        "Percent_Yes_5Stars = (Five_Star_Yes_df_ct/Five_Star_All_df_ct)*100\n",
        "Percent_Yes_5Stars"
      ],
      "metadata": {
        "colab": {
          "base_uri": "https://localhost:8080/"
        },
        "id": "mv8s5wreESx_",
        "outputId": "f4dc26f7-b648-4067-e7ac-a152dda31d05"
      },
      "execution_count": 26,
      "outputs": [
        {
          "output_type": "execute_result",
          "data": {
            "text/plain": [
              "0.0"
            ]
          },
          "metadata": {},
          "execution_count": 26
        }
      ]
    },
    {
      "cell_type": "code",
      "source": [
        "Percent_No_5Stars = (Five_Star_No_df_ct/Five_Star_All_df_ct)*100\n",
        "Percent_No_5Stars"
      ],
      "metadata": {
        "colab": {
          "base_uri": "https://localhost:8080/"
        },
        "id": "PjLoeYspEgfI",
        "outputId": "44f8c007-0d8f-4bf7-eccf-ed4147b0cd03"
      },
      "execution_count": 27,
      "outputs": [
        {
          "output_type": "execute_result",
          "data": {
            "text/plain": [
              "100.0"
            ]
          },
          "metadata": {},
          "execution_count": 27
        }
      ]
    },
    {
      "cell_type": "code",
      "source": [
        "Percent_Yes_5Stars_ALL = (Five_Star_Yes_df_ct/vine_total_ct)*100\n",
        "Percent_Yes_5Stars_ALL"
      ],
      "metadata": {
        "colab": {
          "base_uri": "https://localhost:8080/"
        },
        "id": "Fvl0O7DWoHcJ",
        "outputId": "816d47d4-f86e-4d57-94d6-b468ad4dca7c"
      },
      "execution_count": 29,
      "outputs": [
        {
          "output_type": "execute_result",
          "data": {
            "text/plain": [
              "0.0"
            ]
          },
          "metadata": {},
          "execution_count": 29
        }
      ]
    },
    {
      "cell_type": "code",
      "source": [
        "Percent_No_5Stars_ALL = (Five_Star_No_df_ct/vine_total_ct)*100\n",
        "Percent_No_5Stars_ALL"
      ],
      "metadata": {
        "colab": {
          "base_uri": "https://localhost:8080/"
        },
        "id": "tP8C43PWoe6t",
        "outputId": "98ba1e37-9a52-486e-b196-41229fe62eec"
      },
      "execution_count": 30,
      "outputs": [
        {
          "output_type": "execute_result",
          "data": {
            "text/plain": [
              "0.16706704293889763"
            ]
          },
          "metadata": {},
          "execution_count": 30
        }
      ]
    }
  ]
}