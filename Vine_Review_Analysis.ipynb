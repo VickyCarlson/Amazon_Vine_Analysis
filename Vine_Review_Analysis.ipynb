{
  "nbformat": 4,
  "nbformat_minor": 0,
  "metadata": {
    "colab": {
      "name": "Vine_Review_Analysis.ipynb",
      "provenance": [],
      "collapsed_sections": [],
      "include_colab_link": true
    },
    "kernelspec": {
      "name": "python3",
      "display_name": "Python 3"
    },
    "nteract": {
      "version": "0.12.3"
    },
    "language_info": {
      "name": "python"
    }
  },
  "cells": [
    {
      "cell_type": "markdown",
      "metadata": {
        "id": "view-in-github",
        "colab_type": "text"
      },
      "source": [
        "<a href=\"https://colab.research.google.com/github/VickyCarlson/Amazon_Vine_Analysis/blob/main/Vine_Review_Analysis.ipynb\" target=\"_parent\"><img src=\"https://colab.research.google.com/assets/colab-badge.svg\" alt=\"Open In Colab\"/></a>"
      ]
    },
    {
      "cell_type": "code",
      "metadata": {
        "id": "V58rxea0HqSa",
        "colab": {
          "base_uri": "https://localhost:8080/"
        },
        "outputId": "6656601d-a6f9-4c0c-ef73-e5430bab24c0"
      },
      "source": [
        "import os\n",
        "# Find the latest version of spark 3.0 from http://www.apache.org/dist/spark/ and enter as the spark version\n",
        "# For example:\n",
        "# spark_version = 'spark-3.0.3'\n",
        "spark_version = 'spark-3.2.0'\n",
        "os.environ['SPARK_VERSION']=spark_version\n",
        "\n",
        "# Install Spark and Java\n",
        "!apt-get update\n",
        "!apt-get install openjdk-11-jdk-headless -qq > /dev/null\n",
        "!wget -q http://www.apache.org/dist/spark/$SPARK_VERSION/$SPARK_VERSION-bin-hadoop2.7.tgz\n",
        "!tar xf $SPARK_VERSION-bin-hadoop2.7.tgz\n",
        "!pip install -q findspark\n",
        "\n",
        "# Set Environment Variables\n",
        "import os\n",
        "os.environ[\"JAVA_HOME\"] = \"/usr/lib/jvm/java-11-openjdk-amd64\"\n",
        "os.environ[\"SPARK_HOME\"] = f\"/content/{spark_version}-bin-hadoop2.7\"\n",
        "\n",
        "# Start a SparkSession\n",
        "import findspark\n",
        "findspark.init()"
      ],
      "execution_count": 1,
      "outputs": [
        {
          "output_type": "stream",
          "name": "stdout",
          "text": [
            "\r0% [Working]\r            \rGet:1 https://cloud.r-project.org/bin/linux/ubuntu bionic-cran40/ InRelease [3,626 B]\n",
            "\r0% [Connecting to archive.ubuntu.com] [Connecting to security.ubuntu.com (91.18\r0% [Connecting to archive.ubuntu.com] [Connecting to security.ubuntu.com (91.18\r0% [1 InRelease gpgv 3,626 B] [Connecting to archive.ubuntu.com] [Connecting to\r                                                                               \rIgn:2 https://developer.download.nvidia.com/compute/cuda/repos/ubuntu1804/x86_64  InRelease\n",
            "\r0% [1 InRelease gpgv 3,626 B] [Connecting to archive.ubuntu.com] [Connecting to\r                                                                               \rIgn:3 https://developer.download.nvidia.com/compute/machine-learning/repos/ubuntu1804/x86_64  InRelease\n",
            "\r0% [1 InRelease gpgv 3,626 B] [Connecting to archive.ubuntu.com (91.189.88.152)\r                                                                               \rHit:4 https://developer.download.nvidia.com/compute/cuda/repos/ubuntu1804/x86_64  Release\n",
            "Hit:5 https://developer.download.nvidia.com/compute/machine-learning/repos/ubuntu1804/x86_64  Release\n",
            "Get:6 http://ppa.launchpad.net/c2d4u.team/c2d4u4.0+/ubuntu bionic InRelease [15.9 kB]\n",
            "Get:7 http://security.ubuntu.com/ubuntu bionic-security InRelease [88.7 kB]\n",
            "Hit:8 http://archive.ubuntu.com/ubuntu bionic InRelease\n",
            "Get:9 http://archive.ubuntu.com/ubuntu bionic-updates InRelease [88.7 kB]\n",
            "Hit:11 http://ppa.launchpad.net/cran/libgit2/ubuntu bionic InRelease\n",
            "Get:13 http://ppa.launchpad.net/deadsnakes/ppa/ubuntu bionic InRelease [15.9 kB]\n",
            "Hit:14 http://archive.ubuntu.com/ubuntu bionic-backports InRelease\n",
            "Get:15 http://ppa.launchpad.net/graphics-drivers/ppa/ubuntu bionic InRelease [21.3 kB]\n",
            "Get:16 http://security.ubuntu.com/ubuntu bionic-security/multiverse amd64 Packages [26.8 kB]\n",
            "Get:17 http://ppa.launchpad.net/c2d4u.team/c2d4u4.0+/ubuntu bionic/main Sources [1,822 kB]\n",
            "Get:18 http://security.ubuntu.com/ubuntu bionic-security/restricted amd64 Packages [716 kB]\n",
            "Get:19 http://archive.ubuntu.com/ubuntu bionic-updates/multiverse amd64 Packages [34.5 kB]\n",
            "Get:20 http://archive.ubuntu.com/ubuntu bionic-updates/universe amd64 Packages [2,238 kB]\n",
            "Get:21 http://security.ubuntu.com/ubuntu bionic-security/universe amd64 Packages [1,459 kB]\n",
            "Get:22 http://security.ubuntu.com/ubuntu bionic-security/main amd64 Packages [2,489 kB]\n",
            "Get:23 http://archive.ubuntu.com/ubuntu bionic-updates/restricted amd64 Packages [749 kB]\n",
            "Get:24 http://archive.ubuntu.com/ubuntu bionic-updates/main amd64 Packages [2,929 kB]\n",
            "Get:25 http://ppa.launchpad.net/c2d4u.team/c2d4u4.0+/ubuntu bionic/main amd64 Packages [934 kB]\n",
            "Get:26 http://ppa.launchpad.net/deadsnakes/ppa/ubuntu bionic/main amd64 Packages [45.3 kB]\n",
            "Get:27 http://ppa.launchpad.net/graphics-drivers/ppa/ubuntu bionic/main amd64 Packages [44.7 kB]\n",
            "Fetched 13.7 MB in 5s (2,755 kB/s)\n",
            "Reading package lists... Done\n"
          ]
        }
      ]
    },
    {
      "cell_type": "code",
      "metadata": {
        "id": "_xKwTpATHqSe",
        "colab": {
          "base_uri": "https://localhost:8080/"
        },
        "outputId": "c8fc69c7-734d-4d00-df82-d42da777cc7c"
      },
      "source": [
        "# Download the Postgres driver that will allow Spark to interact with Postgres.\n",
        "!wget https://jdbc.postgresql.org/download/postgresql-42.2.16.jar"
      ],
      "execution_count": 2,
      "outputs": [
        {
          "output_type": "stream",
          "name": "stdout",
          "text": [
            "--2022-01-09 13:26:51--  https://jdbc.postgresql.org/download/postgresql-42.2.16.jar\n",
            "Resolving jdbc.postgresql.org (jdbc.postgresql.org)... 72.32.157.228, 2001:4800:3e1:1::228\n",
            "Connecting to jdbc.postgresql.org (jdbc.postgresql.org)|72.32.157.228|:443... connected.\n",
            "HTTP request sent, awaiting response... 200 OK\n",
            "Length: 1002883 (979K) [application/java-archive]\n",
            "Saving to: ‘postgresql-42.2.16.jar’\n",
            "\n",
            "postgresql-42.2.16. 100%[===================>] 979.38K  4.96MB/s    in 0.2s    \n",
            "\n",
            "2022-01-09 13:26:52 (4.96 MB/s) - ‘postgresql-42.2.16.jar’ saved [1002883/1002883]\n",
            "\n"
          ]
        }
      ]
    },
    {
      "cell_type": "code",
      "metadata": {
        "id": "MMqDAjVS0KN9"
      },
      "source": [
        "from pyspark.sql import SparkSession\n",
        "spark = SparkSession.builder.appName(\"M16-Amazon-Challenge\").config(\"spark.driver.extraClassPath\",\"/content/postgresql-42.2.16.jar\").getOrCreate()"
      ],
      "execution_count": 3,
      "outputs": []
    },
    {
      "cell_type": "markdown",
      "metadata": {
        "id": "cyBsySGuY-9V"
      },
      "source": [
        "### Load Amazon Data into Spark DataFrame"
      ]
    },
    {
      "cell_type": "code",
      "metadata": {
        "id": "CtCmBhQJY-9Z",
        "colab": {
          "base_uri": "https://localhost:8080/"
        },
        "outputId": "e8aee60b-639c-49c3-91d3-6c72cf5977bc"
      },
      "source": [
        "from pyspark import SparkFiles\n",
        "url = \"https://bookrevs.s3.us-west-2.amazonaws.com/amazon_reviews_us_Digital_Ebook_Purchase_v1_00.tsv\"\n",
        "spark.sparkContext.addFile(url)\n",
        "df = spark.read.option(\"encoding\", \"UTF-8\").csv(SparkFiles.get(\"amazon_reviews_us_Digital_Ebook_Purchase_v1_00.tsv\"), sep=\"\\t\", header=True, inferSchema=True)\n",
        "df.show()"
      ],
      "execution_count": 4,
      "outputs": [
        {
          "output_type": "stream",
          "name": "stdout",
          "text": [
            "+-----------+-----------+--------------+----------+--------------+--------------------+--------------------+-----------+-------------+-----------+----+-----------------+--------------------+--------------------+-----------+\n",
            "|marketplace|customer_id|     review_id|product_id|product_parent|       product_title|    product_category|star_rating|helpful_votes|total_votes|vine|verified_purchase|     review_headline|         review_body|review_date|\n",
            "+-----------+-----------+--------------+----------+--------------+--------------------+--------------------+-----------+-------------+-----------+----+-----------------+--------------------+--------------------+-----------+\n",
            "|         US|   35471030|R1C5OK9AND7PRP|B00AHK07V0|     175130663|Hunter's Moon (A ...|Digital_Ebook_Pur...|          5|            0|          0|   N|                Y|Shugak is like a ...|This is the most ...| 2015-08-31|\n",
            "|         US|   26579324|R333RNBQMPVUFT|B014085WTQ|     859232728|Flying Toward For...|Digital_Ebook_Pur...|          5|            0|          0|   N|                Y|For the young hea...|This story holds ...| 2015-08-31|\n",
            "|         US|    9152364|R2A2K0GTNSKXM1|B0113MFPN0|     411472516|Falling For A Rea...|Digital_Ebook_Pur...|          5|            0|          0|   N|                N|          Five Stars|A true love story...| 2015-08-31|\n",
            "|         US|   52087605|R365LAQ9REV876|B00T8RIK7G|     353828021|   The Good Neighbor|Digital_Ebook_Pur...|          3|            0|          0|   N|                Y|Not really my typ...|A bit contrived a...| 2015-08-31|\n",
            "|         US|   46454660|R294OF3SNH6SWZ|B00EMXBDMA|     803172158|The Martian: A Novel|Digital_Ebook_Pur...|          4|            0|          0|   N|                Y|Coming soon to a ...|Moved well. Seeme...| 2015-08-31|\n",
            "|         US|   33168429|R2OMRH58WYEEP9|B00GL3OJIY|     325772386|The Painter: A novel|Digital_Ebook_Pur...|          5|            0|          0|   N|                N|        I liked it a|Very different an...| 2015-08-31|\n",
            "|         US|   18546798| RBFXYUJZIH5JR|B00RW30QE8|     236508296|        METEOR STORM|Digital_Ebook_Pur...|          5|            0|          0|   N|                Y|The author delive...|Once I started re...| 2015-08-31|\n",
            "|         US|   47463409|R2K2RSBNV42HU4|B0101AE85Q|     924272105|Diary of a Crazy ...|Digital_Ebook_Pur...|          5|            0|          0|   N|                N|This book is amaz...|Super quality, gr...| 2015-08-31|\n",
            "|         US|   11767467|R2CLRFFJ5HJSU3|B00IO7QAI2|     393059633|Unlocking Potenti...|Digital_Ebook_Pur...|          4|            0|          0|   N|                N|          Four Stars|    A useful primer.| 2015-08-31|\n",
            "|         US|   14241457| RS1O7V45AADDO|B00PM995TG|     529331494|The Einstein Prop...|Digital_Ebook_Pur...|          4|            0|          0|   N|                Y|          Four Stars|   enjoyed the story| 2015-08-31|\n",
            "|         US|   52821351| RYD2AF3KUC4OL|B00K4C4GVI|     310020786|Make It Ahead: A ...|Digital_Ebook_Pur...|          5|            2|          2|   N|                Y|Because of her I ...|This isn't the he...| 2015-08-31|\n",
            "|         US|   14416837| RHQTCPUF1CXY2|B00PUSKG8I|     683060701|The Shipwreck of ...|Digital_Ebook_Pur...|          4|            0|          0|   N|                Y|Very interesting ...|This is a very qu...| 2015-08-31|\n",
            "|         US|   17189419|R3371UTDP6I1FU|B00FNCSBCE|     813812785|20 Compelling Evi...|Digital_Ebook_Pur...|          5|            0|          0|   N|                Y|           Excellent|For some reason I...| 2015-08-31|\n",
            "|         US|   44043796|R2RI2S5Q90RG23|B004XFYN9M|     972973628|   What Alice Forgot|Digital_Ebook_Pur...|          5|            0|          0|   N|                Y|           good read|Good character de...| 2015-08-31|\n",
            "|         US|   24135769| RCYE82T9GRT48|B00K0OI42W|     994527755|To Kill a Mocking...|Digital_Ebook_Pur...|          5|            0|          0|   N|                Y|I last read it in...|This was a reread...| 2015-08-31|\n",
            "|         US|   47496659|R12T8WK03VQNC5|B00N2HHPQU|     886553830|The Housewife Ass...|Digital_Ebook_Pur...|          4|            1|          1|   N|                Y|          Four Stars|           enjoyable| 2015-08-31|\n",
            "|         US|   21051459|R3RVME26X4DGJX|B00ZPCLT0S|     296387019|Illusive (Storm M...|Digital_Ebook_Pur...|          5|            0|          0|   N|                N|           Fantastic|Oh how UNFAIR thi...| 2015-08-31|\n",
            "|         US|   45295639|R3BME7NLVCMJHW|B00QSNV82C|     506388384|A Mansion, A Drag...|Digital_Ebook_Pur...|          4|            0|          0|   N|                Y|          Four Stars|Light reading, ve...| 2015-08-31|\n",
            "|         US|   14443051|R1PKMRYLDMVN2P|B00PQL9U4K|      26715694|         Wolf Hunter|Digital_Ebook_Pur...|          3|            0|          0|   N|                Y|                Good|This is a ok book...| 2015-08-31|\n",
            "|         US|   37039571|R1TR7VKTTJV505|B004FGMDOQ|     333044434|Miss Peregrine's ...|Digital_Ebook_Pur...|          5|            0|          0|   N|                N|          Five Stars|Great book! My st...| 2015-08-31|\n",
            "+-----------+-----------+--------------+----------+--------------+--------------------+--------------------+-----------+-------------+-----------+----+-----------------+--------------------+--------------------+-----------+\n",
            "only showing top 20 rows\n",
            "\n"
          ]
        }
      ]
    },
    {
      "cell_type": "code",
      "metadata": {
        "id": "lzMmkdKmY--D",
        "colab": {
          "base_uri": "https://localhost:8080/"
        },
        "outputId": "f3594a5f-7c2e-45ab-8aee-fe8f8ada010b"
      },
      "source": [
        "# Create the vine_table DataFrame\n",
        "from pyspark.sql.types import IntegerType\n",
        "vine_df = df.select([\"review_id\", df[\"star_rating\"].cast('double'), \"helpful_votes\", \"total_votes\", \"vine\", \"verified_purchase\"])\n",
        "vine_df.show()"
      ],
      "execution_count": 5,
      "outputs": [
        {
          "output_type": "stream",
          "name": "stdout",
          "text": [
            "+--------------+-----------+-------------+-----------+----+-----------------+\n",
            "|     review_id|star_rating|helpful_votes|total_votes|vine|verified_purchase|\n",
            "+--------------+-----------+-------------+-----------+----+-----------------+\n",
            "|R1C5OK9AND7PRP|        5.0|            0|          0|   N|                Y|\n",
            "|R333RNBQMPVUFT|        5.0|            0|          0|   N|                Y|\n",
            "|R2A2K0GTNSKXM1|        5.0|            0|          0|   N|                N|\n",
            "|R365LAQ9REV876|        3.0|            0|          0|   N|                Y|\n",
            "|R294OF3SNH6SWZ|        4.0|            0|          0|   N|                Y|\n",
            "|R2OMRH58WYEEP9|        5.0|            0|          0|   N|                N|\n",
            "| RBFXYUJZIH5JR|        5.0|            0|          0|   N|                Y|\n",
            "|R2K2RSBNV42HU4|        5.0|            0|          0|   N|                N|\n",
            "|R2CLRFFJ5HJSU3|        4.0|            0|          0|   N|                N|\n",
            "| RS1O7V45AADDO|        4.0|            0|          0|   N|                Y|\n",
            "| RYD2AF3KUC4OL|        5.0|            2|          2|   N|                Y|\n",
            "| RHQTCPUF1CXY2|        4.0|            0|          0|   N|                Y|\n",
            "|R3371UTDP6I1FU|        5.0|            0|          0|   N|                Y|\n",
            "|R2RI2S5Q90RG23|        5.0|            0|          0|   N|                Y|\n",
            "| RCYE82T9GRT48|        5.0|            0|          0|   N|                Y|\n",
            "|R12T8WK03VQNC5|        4.0|            1|          1|   N|                Y|\n",
            "|R3RVME26X4DGJX|        5.0|            0|          0|   N|                N|\n",
            "|R3BME7NLVCMJHW|        4.0|            0|          0|   N|                Y|\n",
            "|R1PKMRYLDMVN2P|        3.0|            0|          0|   N|                Y|\n",
            "|R1TR7VKTTJV505|        5.0|            0|          0|   N|                N|\n",
            "+--------------+-----------+-------------+-----------+----+-----------------+\n",
            "only showing top 20 rows\n",
            "\n"
          ]
        }
      ]
    },
    {
      "cell_type": "code",
      "source": [
        "#Filter the data and create a new DataFrame or table to retrieve all the rows where the total_votes count is equal to or greater than 20\n",
        "vine_total_df = vine_df.filter(\"total_votes>= 20\")\n",
        "vine_total_df.count()"
      ],
      "metadata": {
        "colab": {
          "base_uri": "https://localhost:8080/"
        },
        "id": "buXaA-q0oodW",
        "outputId": "c7572e26-edf6-4302-a72a-37dcc6b65ebc"
      },
      "execution_count": 6,
      "outputs": [
        {
          "output_type": "execute_result",
          "data": {
            "text/plain": [
              "70726"
            ]
          },
          "metadata": {},
          "execution_count": 6
        }
      ]
    },
    {
      "cell_type": "code",
      "source": [
        "# Filter the new DataFrame create a new DataFrame to retrieve all the rows where the number of helpful_votes divided by total_votes is equal to or greater than 50%.\n",
        "vine_helpful_votes_df = vine_total_df.filter(\"(helpful_votes/total_votes)>=0.5\")\n",
        "vine_helpful_votes_df.count()"
      ],
      "metadata": {
        "colab": {
          "base_uri": "https://localhost:8080/"
        },
        "id": "yUK753yXpfIZ",
        "outputId": "bb44da77-4269-46d2-94ea-3148b6e6143f"
      },
      "execution_count": 7,
      "outputs": [
        {
          "output_type": "execute_result",
          "data": {
            "text/plain": [
              "54092"
            ]
          },
          "metadata": {},
          "execution_count": 7
        }
      ]
    },
    {
      "cell_type": "code",
      "source": [
        ""
      ],
      "metadata": {
        "id": "FEy3_JPeDvj-"
      },
      "execution_count": 7,
      "outputs": []
    },
    {
      "cell_type": "code",
      "source": [
        "vine_yes_df = vine_helpful_votes_df.filter(\"vine=='Y'\")\n",
        "vine_yes_df.show()\n",
        "vine_yes_df.count()"
      ],
      "metadata": {
        "colab": {
          "base_uri": "https://localhost:8080/"
        },
        "id": "p6trz7BO5eM2",
        "outputId": "180aa4ee-24bb-4d1b-f6c2-7293ed45c56b"
      },
      "execution_count": 8,
      "outputs": [
        {
          "output_type": "stream",
          "name": "stdout",
          "text": [
            "+---------+-----------+-------------+-----------+----+-----------------+\n",
            "|review_id|star_rating|helpful_votes|total_votes|vine|verified_purchase|\n",
            "+---------+-----------+-------------+-----------+----+-----------------+\n",
            "+---------+-----------+-------------+-----------+----+-----------------+\n",
            "\n"
          ]
        },
        {
          "output_type": "execute_result",
          "data": {
            "text/plain": [
              "0"
            ]
          },
          "metadata": {},
          "execution_count": 8
        }
      ]
    },
    {
      "cell_type": "code",
      "source": [
        "vine_no_df = vine_helpful_votes_df.filter(\"vine=='N'\")\n",
        "vine_no_df.show()\n",
        "vine_no_df.count()"
      ],
      "metadata": {
        "colab": {
          "base_uri": "https://localhost:8080/"
        },
        "id": "XSDXSmjm6WWJ",
        "outputId": "b449ae08-7317-412b-a310-a83ce093c7b7"
      },
      "execution_count": 9,
      "outputs": [
        {
          "output_type": "stream",
          "name": "stdout",
          "text": [
            "+--------------+-----------+-------------+-----------+----+-----------------+\n",
            "|     review_id|star_rating|helpful_votes|total_votes|vine|verified_purchase|\n",
            "+--------------+-----------+-------------+-----------+----+-----------------+\n",
            "|R2HQLKREFKG25D|        5.0|           21|         21|   N|                Y|\n",
            "| RWIL1XU6YM0U4|        5.0|           20|         20|   N|                N|\n",
            "|R28SB7Q1WBJRFM|        5.0|           25|         27|   N|                N|\n",
            "|R3PVKAWMZW55U8|        5.0|          106|        119|   N|                Y|\n",
            "|R21JS1HIQV1H7W|        3.0|           17|         22|   N|                Y|\n",
            "|R245IE9DATP3ZL|        3.0|           15|         23|   N|                Y|\n",
            "| RB1Y3RO4J4854|        3.0|           23|         30|   N|                Y|\n",
            "|R23P75H9VX5RLM|        5.0|           32|         36|   N|                Y|\n",
            "|R3JCH5P63TIQ4E|        5.0|           19|         20|   N|                N|\n",
            "| RYA7IZ8VHN5P8|        2.0|           37|         42|   N|                Y|\n",
            "| RE754WU5TGN9E|        5.0|           39|         44|   N|                Y|\n",
            "|  RVNRTIVFKBBI|        5.0|           23|         23|   N|                N|\n",
            "|R31X4TF63XSPKJ|        5.0|           30|         35|   N|                Y|\n",
            "| R5GHZAQ911CJV|        3.0|           41|         51|   N|                N|\n",
            "|R109YPQMPNG6J3|        5.0|           20|         22|   N|                Y|\n",
            "|R1KKWEQ84QFMAU|        5.0|           36|         41|   N|                N|\n",
            "|R25JYT9OOGCKRF|        5.0|          176|        202|   N|                Y|\n",
            "|R3MSUS8K98C44Q|        5.0|           34|         37|   N|                Y|\n",
            "|R2G06M6RQEP948|        3.0|           39|         40|   N|                Y|\n",
            "| RG5OVB55VNGVN|        2.0|           16|         20|   N|                Y|\n",
            "+--------------+-----------+-------------+-----------+----+-----------------+\n",
            "only showing top 20 rows\n",
            "\n"
          ]
        },
        {
          "output_type": "execute_result",
          "data": {
            "text/plain": [
              "54092"
            ]
          },
          "metadata": {},
          "execution_count": 9
        }
      ]
    },
    {
      "cell_type": "code",
      "source": [
        "vine_no_df_ct = vine_no_df.count()\n",
        "vine_no_df_ct"
      ],
      "metadata": {
        "colab": {
          "base_uri": "https://localhost:8080/"
        },
        "id": "fCtRTgGY8fHD",
        "outputId": "67903ce2-41a2-4265-b01b-b8f3856e9fa9"
      },
      "execution_count": 19,
      "outputs": [
        {
          "output_type": "execute_result",
          "data": {
            "text/plain": [
              "54092"
            ]
          },
          "metadata": {},
          "execution_count": 19
        }
      ]
    },
    {
      "cell_type": "code",
      "source": [
        "vine_helpful_votes_df_ct= vine_helpful_votes_df.count()\n",
        "vine_helpful_votes_df_ct"
      ],
      "metadata": {
        "colab": {
          "base_uri": "https://localhost:8080/"
        },
        "id": "sB2L6woUD6BP",
        "outputId": "3543ebc3-72ab-45d7-cc78-bd6a3a82f936"
      },
      "execution_count": 21,
      "outputs": [
        {
          "output_type": "execute_result",
          "data": {
            "text/plain": [
              "54092"
            ]
          },
          "metadata": {},
          "execution_count": 21
        }
      ]
    },
    {
      "cell_type": "code",
      "source": [
        "total_reviews_ct = vine_helpful_votes_df_ct\n",
        "total_reviews_ct"
      ],
      "metadata": {
        "colab": {
          "base_uri": "https://localhost:8080/"
        },
        "id": "KrM3T92Q6p13",
        "outputId": "8094e548-f1c3-4561-b982-626bc2e90d28"
      },
      "execution_count": 22,
      "outputs": [
        {
          "output_type": "execute_result",
          "data": {
            "text/plain": [
              "54092"
            ]
          },
          "metadata": {},
          "execution_count": 22
        }
      ]
    },
    {
      "cell_type": "code",
      "source": [
        "Five_Star_No_df = vine_no_df.filter(\"star_rating==5.0\")\n",
        "Five_Star_No_df.show()"
      ],
      "metadata": {
        "colab": {
          "base_uri": "https://localhost:8080/"
        },
        "id": "_gdSwl_WA_e0",
        "outputId": "db9b191f-a294-42d1-ea79-f2eff3b982dc"
      },
      "execution_count": 39,
      "outputs": [
        {
          "output_type": "stream",
          "name": "stdout",
          "text": [
            "+--------------+-----------+-------------+-----------+----+-----------------+\n",
            "|     review_id|star_rating|helpful_votes|total_votes|vine|verified_purchase|\n",
            "+--------------+-----------+-------------+-----------+----+-----------------+\n",
            "|R2HQLKREFKG25D|        5.0|           21|         21|   N|                Y|\n",
            "| RWIL1XU6YM0U4|        5.0|           20|         20|   N|                N|\n",
            "|R28SB7Q1WBJRFM|        5.0|           25|         27|   N|                N|\n",
            "|R3PVKAWMZW55U8|        5.0|          106|        119|   N|                Y|\n",
            "|R23P75H9VX5RLM|        5.0|           32|         36|   N|                Y|\n",
            "|R3JCH5P63TIQ4E|        5.0|           19|         20|   N|                N|\n",
            "| RE754WU5TGN9E|        5.0|           39|         44|   N|                Y|\n",
            "|  RVNRTIVFKBBI|        5.0|           23|         23|   N|                N|\n",
            "|R31X4TF63XSPKJ|        5.0|           30|         35|   N|                Y|\n",
            "|R109YPQMPNG6J3|        5.0|           20|         22|   N|                Y|\n",
            "|R1KKWEQ84QFMAU|        5.0|           36|         41|   N|                N|\n",
            "|R25JYT9OOGCKRF|        5.0|          176|        202|   N|                Y|\n",
            "|R3MSUS8K98C44Q|        5.0|           34|         37|   N|                Y|\n",
            "|R209ZKHC70IBXL|        5.0|           35|         39|   N|                Y|\n",
            "|R2KAM1REDABOJK|        5.0|           25|         30|   N|                Y|\n",
            "|R3FYES1D4ERW2U|        5.0|           19|         20|   N|                Y|\n",
            "| RFKMJ87Y4X1R9|        5.0|           39|         45|   N|                Y|\n",
            "|R2I26Y9A6EDTOK|        5.0|           39|         43|   N|                Y|\n",
            "|R26SYBLQXXP082|        5.0|           29|         34|   N|                Y|\n",
            "|R1M2LAG4L3WPAJ|        5.0|           34|         38|   N|                Y|\n",
            "+--------------+-----------+-------------+-----------+----+-----------------+\n",
            "only showing top 20 rows\n",
            "\n"
          ]
        }
      ]
    },
    {
      "cell_type": "code",
      "source": [
        "Five_Star_No_df_ct = Five_Star_No_df.count()\n",
        "Five_Star_No_df_ct"
      ],
      "metadata": {
        "colab": {
          "base_uri": "https://localhost:8080/"
        },
        "id": "kGYNu3dAH5oC",
        "outputId": "5e859bcd-c120-4aab-cad4-dd255cb0b28e"
      },
      "execution_count": 42,
      "outputs": [
        {
          "output_type": "execute_result",
          "data": {
            "text/plain": [
              "20918"
            ]
          },
          "metadata": {},
          "execution_count": 42
        }
      ]
    },
    {
      "cell_type": "code",
      "source": [
        "Five_Star_Yes_df = vine_yes_df.filter(\"star_rating==5.0\")\n",
        "Five_Star_Yes_df.show()"
      ],
      "metadata": {
        "colab": {
          "base_uri": "https://localhost:8080/"
        },
        "id": "2hH7MLteFk_s",
        "outputId": "ea5ff1ab-cfcf-41d3-8f29-17f4616de674"
      },
      "execution_count": 45,
      "outputs": [
        {
          "output_type": "stream",
          "name": "stdout",
          "text": [
            "+---------+-----------+-------------+-----------+----+-----------------+\n",
            "|review_id|star_rating|helpful_votes|total_votes|vine|verified_purchase|\n",
            "+---------+-----------+-------------+-----------+----+-----------------+\n",
            "+---------+-----------+-------------+-----------+----+-----------------+\n",
            "\n"
          ]
        }
      ]
    },
    {
      "cell_type": "code",
      "source": [
        "Five_Star_Yes_df_ct = Five_Star_Yes_df.count()\n",
        "Five_Star_Yes_df_ct"
      ],
      "metadata": {
        "colab": {
          "base_uri": "https://localhost:8080/"
        },
        "id": "nmP81h9MMVtH",
        "outputId": "f7b745f2-9530-4c39-97b9-75786899289b"
      },
      "execution_count": 48,
      "outputs": [
        {
          "output_type": "execute_result",
          "data": {
            "text/plain": [
              "0"
            ]
          },
          "metadata": {},
          "execution_count": 48
        }
      ]
    },
    {
      "cell_type": "code",
      "source": [
        "Percent_Yes = (Five_Star_Yes_df_ct/total_reviews_ct)*100\n",
        "Percent_Yes"
      ],
      "metadata": {
        "colab": {
          "base_uri": "https://localhost:8080/"
        },
        "id": "mv8s5wreESx_",
        "outputId": "60082b31-cfcb-4f40-ec58-c3749f4626d0"
      },
      "execution_count": 50,
      "outputs": [
        {
          "output_type": "execute_result",
          "data": {
            "text/plain": [
              "0.0"
            ]
          },
          "metadata": {},
          "execution_count": 50
        }
      ]
    },
    {
      "cell_type": "code",
      "source": [
        "Percent_No = (Five_Star_No_df_ct/total_reviews_ct)*100\n",
        "Percent_No"
      ],
      "metadata": {
        "colab": {
          "base_uri": "https://localhost:8080/"
        },
        "id": "PjLoeYspEgfI",
        "outputId": "f6d97052-43e4-4565-a575-05076c8f727e"
      },
      "execution_count": 51,
      "outputs": [
        {
          "output_type": "execute_result",
          "data": {
            "text/plain": [
              "38.67115285069881"
            ]
          },
          "metadata": {},
          "execution_count": 51
        }
      ]
    }
  ]
}